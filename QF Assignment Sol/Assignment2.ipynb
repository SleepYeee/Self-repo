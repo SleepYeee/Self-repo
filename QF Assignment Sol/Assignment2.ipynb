{
 "cells": [
  {
   "cell_type": "markdown",
   "metadata": {
    "colab_type": "text",
    "id": "WI820A_Bp_NH"
   },
   "source": [
    "# Assignment 2\n",
    "\n"
   ]
  },
  {
   "cell_type": "markdown",
   "metadata": {
    "colab_type": "text",
    "id": "wVAN3J3Vp_NJ"
   },
   "source": [
    "# Write your name and simon email\n",
    "\n",
    "Please write names below\n",
    "\n",
    "* [Name]:Nicolas de Souza\n",
    "* [email]:ndesouza@simon.rochester.edu\n",
    "\n",
    "\n"
   ]
  },
  {
   "cell_type": "markdown",
   "metadata": {},
   "source": [
    "# Exercises \n",
    "\n",
    "\n",
    "\n"
   ]
  },
  {
   "cell_type": "markdown",
   "metadata": {},
   "source": [
    "\n",
    "\n",
    "We will start by redoing the dataset construction of Assignment 1. ( Feel free to use your previous code!)\n",
    "\n",
    "Start by importing pandas, numpy, maplotlib, and loading the data set. \n",
    "\n",
    "The dataset has address \n",
    "\n",
    "`url='https://github.com/amoreira2/Lectures/blob/main/assets/data/Assignment1.xlsx?raw=true'`\n",
    "\n",
    "I strongly recommend you download first and look at the data set.\n",
    "\n",
    "This file contains multiple sheets, you should use `read_excel` to get the data that contains the 49 value-weighted industry portfolios. \n",
    "\n",
    "See here:https://pandas.pydata.org/pandas-docs/stable/reference/api/pandas.read_excel.html .\n",
    "\n",
    "Do the followings:\n",
    "\n",
    "1. Import this dataframe as `df_ind`\n",
    "    - Use \"sheet_name\" to select the desired excel sheet. \n",
    "    - Use \"skip_rows\" to skip the initial rows before the data.\n",
    "    - Figure out what is the code for missing value and change the option `na_values` appropriately\n",
    "    - If you look at the excel file you will see that there are other data sets stacked horizontally. Use the `usecols` option to select the range of columns you want imported\n",
    "    - You can take a look at Lab3 material for some examples of importing excel data and using these options.\n",
    "\n",
    "2. Change the name of the column with the date information to date\n",
    "\n",
    "3. Use `to_datetime` so python understand the column date as a datetime object (you will have to use the option format)\n",
    "\n",
    "4. Set date as index\n",
    "\n",
    "5. convert the date from the start of the month to end of the month.\n",
    "\n",
    "6. Import the risk-free rate\n",
    "\n",
    "6. Construct excess returns by subtracting the risk free rate.\n",
    "\n",
    "7 Drop any missing observations"
   ]
  },
  {
   "cell_type": "code",
   "execution_count": 1,
   "metadata": {},
   "outputs": [],
   "source": [
    "import numpy as np\n",
    "import pandas as pd\n",
    "import matplotlib.pyplot as plt \n",
    "from pandas.tseries.offsets import MonthEnd\n"
   ]
  },
  {
   "cell_type": "code",
   "execution_count": 2,
   "metadata": {},
   "outputs": [
    {
     "data": {
      "text/html": [
       "<div>\n",
       "<style scoped>\n",
       "    .dataframe tbody tr th:only-of-type {\n",
       "        vertical-align: middle;\n",
       "    }\n",
       "\n",
       "    .dataframe tbody tr th {\n",
       "        vertical-align: top;\n",
       "    }\n",
       "\n",
       "    .dataframe thead th {\n",
       "        text-align: right;\n",
       "    }\n",
       "</style>\n",
       "<table border=\"1\" class=\"dataframe\">\n",
       "  <thead>\n",
       "    <tr style=\"text-align: right;\">\n",
       "      <th></th>\n",
       "      <th>Agric</th>\n",
       "      <th>Food</th>\n",
       "      <th>Soda</th>\n",
       "      <th>Beer</th>\n",
       "      <th>Smoke</th>\n",
       "      <th>Toys</th>\n",
       "      <th>Fun</th>\n",
       "      <th>Books</th>\n",
       "      <th>Hshld</th>\n",
       "      <th>Clths</th>\n",
       "      <th>...</th>\n",
       "      <th>Paper</th>\n",
       "      <th>Boxes</th>\n",
       "      <th>Trans</th>\n",
       "      <th>Whlsl</th>\n",
       "      <th>Rtail</th>\n",
       "      <th>Meals</th>\n",
       "      <th>Banks</th>\n",
       "      <th>Insur</th>\n",
       "      <th>RlEst</th>\n",
       "      <th>Fin</th>\n",
       "    </tr>\n",
       "  </thead>\n",
       "  <tbody>\n",
       "    <tr>\n",
       "      <th>1969-07-31</th>\n",
       "      <td>-9.24</td>\n",
       "      <td>-7.49</td>\n",
       "      <td>-4.07</td>\n",
       "      <td>-2.60</td>\n",
       "      <td>-5.29</td>\n",
       "      <td>-8.33</td>\n",
       "      <td>-10.72</td>\n",
       "      <td>-11.59</td>\n",
       "      <td>-3.99</td>\n",
       "      <td>-12.58</td>\n",
       "      <td>...</td>\n",
       "      <td>-4.19</td>\n",
       "      <td>-3.67</td>\n",
       "      <td>-13.02</td>\n",
       "      <td>-10.47</td>\n",
       "      <td>-8.81</td>\n",
       "      <td>-10.88</td>\n",
       "      <td>-6.80</td>\n",
       "      <td>-10.73</td>\n",
       "      <td>-13.79</td>\n",
       "      <td>-10.19</td>\n",
       "    </tr>\n",
       "    <tr>\n",
       "      <th>1969-08-31</th>\n",
       "      <td>4.08</td>\n",
       "      <td>4.05</td>\n",
       "      <td>4.97</td>\n",
       "      <td>6.17</td>\n",
       "      <td>3.49</td>\n",
       "      <td>5.89</td>\n",
       "      <td>11.03</td>\n",
       "      <td>9.53</td>\n",
       "      <td>4.25</td>\n",
       "      <td>2.01</td>\n",
       "      <td>...</td>\n",
       "      <td>3.61</td>\n",
       "      <td>5.61</td>\n",
       "      <td>5.08</td>\n",
       "      <td>5.81</td>\n",
       "      <td>7.78</td>\n",
       "      <td>8.36</td>\n",
       "      <td>11.77</td>\n",
       "      <td>8.27</td>\n",
       "      <td>14.97</td>\n",
       "      <td>8.56</td>\n",
       "    </tr>\n",
       "    <tr>\n",
       "      <th>1969-09-30</th>\n",
       "      <td>0.52</td>\n",
       "      <td>-1.23</td>\n",
       "      <td>4.60</td>\n",
       "      <td>-1.55</td>\n",
       "      <td>3.52</td>\n",
       "      <td>1.25</td>\n",
       "      <td>0.02</td>\n",
       "      <td>-1.27</td>\n",
       "      <td>-1.16</td>\n",
       "      <td>-3.32</td>\n",
       "      <td>...</td>\n",
       "      <td>-2.46</td>\n",
       "      <td>0.56</td>\n",
       "      <td>-2.23</td>\n",
       "      <td>-0.28</td>\n",
       "      <td>-1.37</td>\n",
       "      <td>-1.64</td>\n",
       "      <td>-3.73</td>\n",
       "      <td>6.39</td>\n",
       "      <td>-4.14</td>\n",
       "      <td>-2.91</td>\n",
       "    </tr>\n",
       "    <tr>\n",
       "      <th>1969-10-31</th>\n",
       "      <td>15.62</td>\n",
       "      <td>7.39</td>\n",
       "      <td>6.21</td>\n",
       "      <td>11.03</td>\n",
       "      <td>11.82</td>\n",
       "      <td>5.81</td>\n",
       "      <td>12.44</td>\n",
       "      <td>6.90</td>\n",
       "      <td>5.79</td>\n",
       "      <td>6.71</td>\n",
       "      <td>...</td>\n",
       "      <td>6.63</td>\n",
       "      <td>2.87</td>\n",
       "      <td>4.16</td>\n",
       "      <td>10.60</td>\n",
       "      <td>5.63</td>\n",
       "      <td>8.37</td>\n",
       "      <td>10.14</td>\n",
       "      <td>5.10</td>\n",
       "      <td>3.19</td>\n",
       "      <td>9.55</td>\n",
       "    </tr>\n",
       "    <tr>\n",
       "      <th>1969-11-30</th>\n",
       "      <td>-2.82</td>\n",
       "      <td>-1.24</td>\n",
       "      <td>-5.44</td>\n",
       "      <td>-3.34</td>\n",
       "      <td>0.09</td>\n",
       "      <td>-8.80</td>\n",
       "      <td>-4.04</td>\n",
       "      <td>-4.41</td>\n",
       "      <td>-2.95</td>\n",
       "      <td>-3.61</td>\n",
       "      <td>...</td>\n",
       "      <td>-4.03</td>\n",
       "      <td>-2.48</td>\n",
       "      <td>-8.45</td>\n",
       "      <td>-7.23</td>\n",
       "      <td>-4.64</td>\n",
       "      <td>-2.99</td>\n",
       "      <td>-8.58</td>\n",
       "      <td>-5.42</td>\n",
       "      <td>-6.96</td>\n",
       "      <td>-7.22</td>\n",
       "    </tr>\n",
       "  </tbody>\n",
       "</table>\n",
       "<p>5 rows × 48 columns</p>\n",
       "</div>"
      ],
      "text/plain": [
       "            Agric  Food  Soda   Beer  Smoke  Toys    Fun  Books  Hshld  Clths  \\\n",
       "1969-07-31  -9.24 -7.49 -4.07  -2.60  -5.29 -8.33 -10.72 -11.59  -3.99 -12.58   \n",
       "1969-08-31   4.08  4.05  4.97   6.17   3.49  5.89  11.03   9.53   4.25   2.01   \n",
       "1969-09-30   0.52 -1.23  4.60  -1.55   3.52  1.25   0.02  -1.27  -1.16  -3.32   \n",
       "1969-10-31  15.62  7.39  6.21  11.03  11.82  5.81  12.44   6.90   5.79   6.71   \n",
       "1969-11-30  -2.82 -1.24 -5.44  -3.34   0.09 -8.80  -4.04  -4.41  -2.95  -3.61   \n",
       "\n",
       "            ...  Paper  Boxes  Trans  Whlsl  Rtail  Meals  Banks  Insur  \\\n",
       "1969-07-31  ...  -4.19  -3.67 -13.02 -10.47  -8.81 -10.88  -6.80 -10.73   \n",
       "1969-08-31  ...   3.61   5.61   5.08   5.81   7.78   8.36  11.77   8.27   \n",
       "1969-09-30  ...  -2.46   0.56  -2.23  -0.28  -1.37  -1.64  -3.73   6.39   \n",
       "1969-10-31  ...   6.63   2.87   4.16  10.60   5.63   8.37  10.14   5.10   \n",
       "1969-11-30  ...  -4.03  -2.48  -8.45  -7.23  -4.64  -2.99  -8.58  -5.42   \n",
       "\n",
       "            RlEst    Fin  \n",
       "1969-07-31 -13.79 -10.19  \n",
       "1969-08-31  14.97   8.56  \n",
       "1969-09-30  -4.14  -2.91  \n",
       "1969-10-31   3.19   9.55  \n",
       "1969-11-30  -6.96  -7.22  \n",
       "\n",
       "[5 rows x 48 columns]"
      ]
     },
     "execution_count": 2,
     "metadata": {},
     "output_type": "execute_result"
    }
   ],
   "source": [
    "# your code below\n",
    "url = \"https://raw.githubusercontent.com/amoreira2/Fin418/main/assets/data/Assignment1.xlsx\"\n",
    "df_ind = pd.read_excel(url, \"49_Industry_Portfolios\", skiprows=6, na_values=-99.99, usecols = \"A:AW\", index_col = 0)\n",
    "df_ind.index = pd.to_datetime(df_ind.index, format = '%Y%m')+MonthEnd(0)\n",
    "df_rmrf = pd.read_excel(url, \"Market_proxy\", skiprows=5, na_values=-99.99, usecols = \"A:C\", index_col = 0)\n",
    "df_rmrf.index = pd.to_datetime(df_rmrf.index, format = '%Y%m')+MonthEnd(0)\n",
    "df_inde = df_ind.subtract(df_rmrf[\"RF\"], axis=0)\n",
    "df_inde.dropna(axis=0, how='any', inplace=True)\n",
    "df_inde.head()"
   ]
  },
  {
   "cell_type": "markdown",
   "metadata": {},
   "source": [
    "**Exercise 1. Moments**\n",
    "\n",
    "We will now estimate the risk-premium in each of these portfolio and the covariance between these portfolios.\n",
    "\n",
    "Do the followings:\n",
    "\n",
    "1. using the method `mean` on the excess return data frame to obtain a vector of average excess returns which we will use as our ESTIMATE for these portfolio risk-premiums. call this vector `ERe`\n",
    "\n",
    "2. use `cov` method to estiamte the covariance of excess returns, call this `CovRe`, which we will use as our ESTIMATE for the TRUE covariance matrix between these portfolios\n",
    "\n",
    "3. Print `ERe` and `CovRe`\n",
    "\n"
   ]
  },
  {
   "cell_type": "code",
   "execution_count": 3,
   "metadata": {},
   "outputs": [
    {
     "name": "stdout",
     "output_type": "stream",
     "text": [
      "Agric    0.596926\n",
      "Food     0.737450\n",
      "Soda     0.747577\n",
      "Beer     0.745371\n",
      "Smoke    1.073165\n",
      "dtype: float64\n",
      "Agric    6.502605\n",
      "Food     4.544203\n",
      "Soda     6.662599\n",
      "Beer     5.330670\n",
      "Smoke    6.264143\n",
      "dtype: float64\n",
      "           Agric       Food       Soda       Beer      Smoke       Toys  \\\n",
      "Agric  42.283870  13.895412  14.346336  15.357792  13.991825  22.845450   \n",
      "Food   13.895412  20.649781  17.140947  16.638740  16.557008  17.881736   \n",
      "Soda   14.346336  17.140947  44.390220  21.477687  16.788400  22.415114   \n",
      "Beer   15.357792  16.638740  21.477687  28.416039  15.240504  20.739552   \n",
      "Smoke  13.991825  16.557008  16.788400  15.240504  39.239493  16.990493   \n",
      "\n",
      "             Fun      Books      Hshld      Clths  ...      Paper      Boxes  \\\n",
      "Agric  25.603373  20.651770  14.086705  22.358837  ...  18.620886  18.503279   \n",
      "Food   19.822838  16.760152  14.755665  19.149684  ...  14.980794  14.987057   \n",
      "Soda   27.409492  21.478002  20.069215  23.433387  ...  19.413236  19.693232   \n",
      "Beer   22.459002  17.438402  18.277620  19.461693  ...  17.326730  15.776708   \n",
      "Smoke  18.312546  14.179440  14.601341  15.830464  ...  14.993237  15.251782   \n",
      "\n",
      "           Trans      Whlsl      Rtail      Meals      Banks      Insur  \\\n",
      "Agric  21.685230  21.671474  18.238354  22.112166  19.847363  18.478277   \n",
      "Food   15.854831  16.244361  17.339216  19.046044  17.648075  17.695633   \n",
      "Soda   19.621829  20.037168  20.471794  23.376182  22.613361  20.757661   \n",
      "Beer   17.770795  17.317937  18.446586  21.071838  18.995298  17.669503   \n",
      "Smoke  13.663776  16.638705  14.092910  16.771839  16.165358  15.322632   \n",
      "\n",
      "           RlEst        Fin  \n",
      "Agric  25.544071  23.456189  \n",
      "Food   18.340478  16.088807  \n",
      "Soda   24.966746  21.355187  \n",
      "Beer   19.610670  18.094191  \n",
      "Smoke  16.042678  14.719785  \n",
      "\n",
      "[5 rows x 48 columns]\n"
     ]
    }
   ],
   "source": [
    "# your code below\n",
    "ERe = df_inde.mean(axis=0)\n",
    "print(ERe.head())\n",
    "Stde = df_inde.std(axis=0)\n",
    "print(Stde.head())\n",
    "CovRe = df_inde.cov()\n",
    "print(CovRe.head())"
   ]
  },
  {
   "cell_type": "markdown",
   "metadata": {},
   "source": [
    "**Exercise 2. Storing the weights**\n",
    "\n",
    "\n",
    "Lets create a storage for our weights. \n",
    "\n",
    "Use the `pd.DataFrame` function to create an empty dataframe with name Weights which has as index the name of the different industries in df_ind and column names as 'W1' and 'W2'."
   ]
  },
  {
   "cell_type": "code",
   "execution_count": 4,
   "metadata": {},
   "outputs": [
    {
     "data": {
      "text/html": [
       "<div>\n",
       "<style scoped>\n",
       "    .dataframe tbody tr th:only-of-type {\n",
       "        vertical-align: middle;\n",
       "    }\n",
       "\n",
       "    .dataframe tbody tr th {\n",
       "        vertical-align: top;\n",
       "    }\n",
       "\n",
       "    .dataframe thead th {\n",
       "        text-align: right;\n",
       "    }\n",
       "</style>\n",
       "<table border=\"1\" class=\"dataframe\">\n",
       "  <thead>\n",
       "    <tr style=\"text-align: right;\">\n",
       "      <th></th>\n",
       "      <th>W1</th>\n",
       "      <th>W2</th>\n",
       "    </tr>\n",
       "  </thead>\n",
       "  <tbody>\n",
       "    <tr>\n",
       "      <th>Agric</th>\n",
       "      <td>NaN</td>\n",
       "      <td>NaN</td>\n",
       "    </tr>\n",
       "    <tr>\n",
       "      <th>Food</th>\n",
       "      <td>NaN</td>\n",
       "      <td>NaN</td>\n",
       "    </tr>\n",
       "    <tr>\n",
       "      <th>Soda</th>\n",
       "      <td>NaN</td>\n",
       "      <td>NaN</td>\n",
       "    </tr>\n",
       "    <tr>\n",
       "      <th>Beer</th>\n",
       "      <td>NaN</td>\n",
       "      <td>NaN</td>\n",
       "    </tr>\n",
       "    <tr>\n",
       "      <th>Smoke</th>\n",
       "      <td>NaN</td>\n",
       "      <td>NaN</td>\n",
       "    </tr>\n",
       "  </tbody>\n",
       "</table>\n",
       "</div>"
      ],
      "text/plain": [
       "        W1   W2\n",
       "Agric  NaN  NaN\n",
       "Food   NaN  NaN\n",
       "Soda   NaN  NaN\n",
       "Beer   NaN  NaN\n",
       "Smoke  NaN  NaN"
      ]
     },
     "execution_count": 4,
     "metadata": {},
     "output_type": "execute_result"
    }
   ],
   "source": [
    "# your code below\n",
    "Weights = pd.DataFrame(index=df_inde.columns, columns=[\"W1\",\"W2\"])\n",
    "Weights.head()"
   ]
  },
  {
   "cell_type": "markdown",
   "metadata": {},
   "source": [
    "**Exercise 3. Weighting scheme 1**\n",
    "\n",
    "We will now find the weights by applying the formula\n",
    "\n",
    "$$ W=E[R^e] @ Var(R^e)^{-1} $$\n",
    "\n",
    "For that you need to inverse the covariance matrix `CovRe` you just estimated.\n",
    "\n",
    "You do that using the function `np.linalg.inv`.\n",
    "\n",
    "Attribute the weight vector to the column 'W1'\n",
    "\n",
    "Does these weights need to add up to 1? Why? why not? Discuss the interepretation.\n"
   ]
  },
  {
   "cell_type": "code",
   "execution_count": 5,
   "metadata": {},
   "outputs": [
    {
     "data": {
      "text/html": [
       "<div>\n",
       "<style scoped>\n",
       "    .dataframe tbody tr th:only-of-type {\n",
       "        vertical-align: middle;\n",
       "    }\n",
       "\n",
       "    .dataframe tbody tr th {\n",
       "        vertical-align: top;\n",
       "    }\n",
       "\n",
       "    .dataframe thead th {\n",
       "        text-align: right;\n",
       "    }\n",
       "</style>\n",
       "<table border=\"1\" class=\"dataframe\">\n",
       "  <thead>\n",
       "    <tr style=\"text-align: right;\">\n",
       "      <th></th>\n",
       "      <th>W1</th>\n",
       "      <th>W2</th>\n",
       "    </tr>\n",
       "  </thead>\n",
       "  <tbody>\n",
       "    <tr>\n",
       "      <th>Agric</th>\n",
       "      <td>0.001123</td>\n",
       "      <td>NaN</td>\n",
       "    </tr>\n",
       "    <tr>\n",
       "      <th>Food</th>\n",
       "      <td>0.014865</td>\n",
       "      <td>NaN</td>\n",
       "    </tr>\n",
       "    <tr>\n",
       "      <th>Soda</th>\n",
       "      <td>0.003134</td>\n",
       "      <td>NaN</td>\n",
       "    </tr>\n",
       "    <tr>\n",
       "      <th>Beer</th>\n",
       "      <td>0.009577</td>\n",
       "      <td>NaN</td>\n",
       "    </tr>\n",
       "    <tr>\n",
       "      <th>Smoke</th>\n",
       "      <td>0.019813</td>\n",
       "      <td>NaN</td>\n",
       "    </tr>\n",
       "  </tbody>\n",
       "</table>\n",
       "</div>"
      ],
      "text/plain": [
       "             W1   W2\n",
       "Agric  0.001123  NaN\n",
       "Food   0.014865  NaN\n",
       "Soda   0.003134  NaN\n",
       "Beer   0.009577  NaN\n",
       "Smoke  0.019813  NaN"
      ]
     },
     "execution_count": 5,
     "metadata": {},
     "output_type": "execute_result"
    }
   ],
   "source": [
    "# your code below\n",
    "CovRe_inv = np.linalg.inv(CovRe)\n",
    "W1 = ERe@CovRe_inv\n",
    "Weights['W1'] = W1\n",
    "Weights.head()"
   ]
  },
  {
   "cell_type": "markdown",
   "metadata": {},
   "source": [
    "**Exercise 4. Weighting scheme 2**\n",
    "\n",
    "We will now find the weights by applying the formula\n",
    "\n",
    "$$ W= \\frac{\\mathbf{1} @ Var(R^e)^{-1}}{\\mathbf{1} @ Var(R^e)^{-1} @ \\mathbf{1}'} $$\n",
    "\n",
    "where $\\mathbf{1}$ is a vector of 1 that has the length same as the number of assets.\n",
    "\n",
    "Attribute this vector to the column 'W2'"
   ]
  },
  {
   "cell_type": "code",
   "execution_count": 6,
   "metadata": {
    "scrolled": true
   },
   "outputs": [
    {
     "name": "stdout",
     "output_type": "stream",
     "text": [
      "[0.05067594433753561, 1.0000000000000004]\n"
     ]
    },
    {
     "data": {
      "text/html": [
       "<div>\n",
       "<style scoped>\n",
       "    .dataframe tbody tr th:only-of-type {\n",
       "        vertical-align: middle;\n",
       "    }\n",
       "\n",
       "    .dataframe tbody tr th {\n",
       "        vertical-align: top;\n",
       "    }\n",
       "\n",
       "    .dataframe thead th {\n",
       "        text-align: right;\n",
       "    }\n",
       "</style>\n",
       "<table border=\"1\" class=\"dataframe\">\n",
       "  <thead>\n",
       "    <tr style=\"text-align: right;\">\n",
       "      <th></th>\n",
       "      <th>W1</th>\n",
       "      <th>W2</th>\n",
       "    </tr>\n",
       "  </thead>\n",
       "  <tbody>\n",
       "    <tr>\n",
       "      <th>Agric</th>\n",
       "      <td>0.001123</td>\n",
       "      <td>0.108446</td>\n",
       "    </tr>\n",
       "    <tr>\n",
       "      <th>Food</th>\n",
       "      <td>0.014865</td>\n",
       "      <td>0.084424</td>\n",
       "    </tr>\n",
       "    <tr>\n",
       "      <th>Soda</th>\n",
       "      <td>0.003134</td>\n",
       "      <td>-0.012305</td>\n",
       "    </tr>\n",
       "    <tr>\n",
       "      <th>Beer</th>\n",
       "      <td>0.009577</td>\n",
       "      <td>0.030482</td>\n",
       "    </tr>\n",
       "    <tr>\n",
       "      <th>Smoke</th>\n",
       "      <td>0.019813</td>\n",
       "      <td>-0.015912</td>\n",
       "    </tr>\n",
       "  </tbody>\n",
       "</table>\n",
       "</div>"
      ],
      "text/plain": [
       "             W1        W2\n",
       "Agric  0.001123  0.108446\n",
       "Food   0.014865  0.084424\n",
       "Soda   0.003134 -0.012305\n",
       "Beer   0.009577  0.030482\n",
       "Smoke  0.019813 -0.015912"
      ]
     },
     "execution_count": 6,
     "metadata": {},
     "output_type": "execute_result"
    }
   ],
   "source": [
    "# your code below\n",
    "ones = np.ones(len(Weights.index))\n",
    "W2 = ones@CovRe_inv/(ones@CovRe_inv@ones)\n",
    "Weights['W2']=W2\n",
    "print([sum(W1),sum(W2)])\n",
    "Weights.head()"
   ]
  },
  {
   "cell_type": "markdown",
   "metadata": {},
   "source": [
    "**Exercise 5. What mathematical problems weights W1 and W2 are solutions to?**\n",
    "\n",
    "(This will not be graded. )"
   ]
  },
  {
   "cell_type": "code",
   "execution_count": 7,
   "metadata": {},
   "outputs": [],
   "source": [
    "# Answer here: \n",
    " \n",
    "# MVE and MVP\n"
   ]
  },
  {
   "cell_type": "markdown",
   "metadata": {},
   "source": [
    "**Exercise 6. Strategy returns**\n",
    "\n",
    "Use weight W1 and W2 to construct the time series of the strategy returns\n",
    "\n",
    "The output should be one dataframe called `df_wR` which rows are the dates of `df_inde` and in the columns we have the names `W1` and `W2` and the values are the strategy return implied by the respective weights.\n",
    "\n"
   ]
  },
  {
   "cell_type": "code",
   "execution_count": 8,
   "metadata": {},
   "outputs": [
    {
     "data": {
      "text/html": [
       "<div>\n",
       "<style scoped>\n",
       "    .dataframe tbody tr th:only-of-type {\n",
       "        vertical-align: middle;\n",
       "    }\n",
       "\n",
       "    .dataframe tbody tr th {\n",
       "        vertical-align: top;\n",
       "    }\n",
       "\n",
       "    .dataframe thead th {\n",
       "        text-align: right;\n",
       "    }\n",
       "</style>\n",
       "<table border=\"1\" class=\"dataframe\">\n",
       "  <thead>\n",
       "    <tr style=\"text-align: right;\">\n",
       "      <th></th>\n",
       "      <th>W1</th>\n",
       "      <th>W2</th>\n",
       "    </tr>\n",
       "  </thead>\n",
       "  <tbody>\n",
       "    <tr>\n",
       "      <th>1969-07-31</th>\n",
       "      <td>-0.370200</td>\n",
       "      <td>-4.789123</td>\n",
       "    </tr>\n",
       "    <tr>\n",
       "      <th>1969-08-31</th>\n",
       "      <td>0.156577</td>\n",
       "      <td>-0.396819</td>\n",
       "    </tr>\n",
       "    <tr>\n",
       "      <th>1969-09-30</th>\n",
       "      <td>-0.074467</td>\n",
       "      <td>-3.176717</td>\n",
       "    </tr>\n",
       "    <tr>\n",
       "      <th>1969-10-31</th>\n",
       "      <td>0.657064</td>\n",
       "      <td>0.354704</td>\n",
       "    </tr>\n",
       "    <tr>\n",
       "      <th>1969-11-30</th>\n",
       "      <td>0.103362</td>\n",
       "      <td>-1.287125</td>\n",
       "    </tr>\n",
       "  </tbody>\n",
       "</table>\n",
       "</div>"
      ],
      "text/plain": [
       "                  W1        W2\n",
       "1969-07-31 -0.370200 -4.789123\n",
       "1969-08-31  0.156577 -0.396819\n",
       "1969-09-30 -0.074467 -3.176717\n",
       "1969-10-31  0.657064  0.354704\n",
       "1969-11-30  0.103362 -1.287125"
      ]
     },
     "execution_count": 8,
     "metadata": {},
     "output_type": "execute_result"
    }
   ],
   "source": [
    "# your code below\n",
    "df_wR = df_inde @ Weights\n",
    "df_wR.head()"
   ]
  },
  {
   "cell_type": "markdown",
   "metadata": {},
   "source": [
    "**Exercise 7. Sharpe Ratios**\n",
    "\n",
    "A key measure of risk-reward is the so called Sharpe ratio. \n",
    "\n",
    "the Sharpe ratio is a ratio of the average excess return of a strategy relative to it's standard deviation.\n",
    "\n",
    "Do the followings:\n",
    "\n",
    "1. compute the Sharpe ratio for both strategies above and report them in annualized units\n",
    "2. comment on what you find. is the difference between these Sharpe ratios as expected? explain."
   ]
  },
  {
   "cell_type": "code",
   "execution_count": 9,
   "metadata": {},
   "outputs": [
    {
     "name": "stdout",
     "output_type": "stream",
     "text": [
      "[1.1723398092709454, 0.5385913768159623]\n"
     ]
    }
   ],
   "source": [
    "# your code below\n",
    "Sharpe1 = df_wR['W1'].mean()/(df_wR['W1'].std())*12**0.5\n",
    "Sharpe2 = df_wR['W2'].mean()/(df_wR['W2'].std())*12**0.5\n",
    "Sharpe = [Sharpe1, Sharpe2]\n",
    "print(Sharpe)"
   ]
  },
  {
   "cell_type": "code",
   "execution_count": 10,
   "metadata": {},
   "outputs": [],
   "source": [
    "# your comments below \n",
    "\n",
    "# Yes, we are maximizing the sharpe ratio in the first porfolio, whereas for the second we just care about minimizing the variance."
   ]
  },
  {
   "cell_type": "markdown",
   "metadata": {},
   "source": [
    "**Exercise 8. Normalization**\n",
    "\n",
    "While strategy 2 was solved by imposing a constraint on weights so that they add up to 1, strategy 1 does not impose any constraint on the weights as it imposes a constraint on the expected return target\n",
    "\n",
    "Imposing a constraint is a choice because we are working with excess returns, so the weights do not need to add up to 1 because these assets cost zero--i.e. each asset is a strategy that is self funded, which invests in the asset with money borrowed at the risk-free rate.\n",
    "\n",
    "This is all fine and good, but it means that leverage that comes out of the weights $ W1=E[E^e] @ Var(R^e)^{-1} $ is not determinate. Any set of weights proportional to W1 will achieve the same Sharpe Ratio. \n",
    "\n",
    "In the exercise below we will trace the entire frontier by changing this proportionality constant.\n",
    "\n",
    "Do the followings:\n",
    "\n",
    "1. transform the weights W1 by multiplying it by a constant (your job is to figure out what this constant must be) so that the new strategy associated with these new weights (call it W3) have the same in sample volatility as the strategy associated with W2.\n",
    "\n",
    "2. record this new strategy in `df_wR`.\n",
    "\n",
    "3. plot the cumulative returns (as seen for example in Chapter 7) of strategies W2 and W3. Note that stock returns from the data are in percentages, so you may need to rescale the portfolio returns to the unit of 1 when you compute the cumulative returns. \n",
    "\n",
    "4. given what you know about their Sharpe Ratios, are the results surprising? explain\n",
    "\n",
    "**_Hint:_**\n",
    "$$ K =\\sigma(R^e_{p2}) = c\\cdot \\sigma( R^e_{p1}) = \\sigma(c\\cdot R^e_{p1}) = \\sigma( R^e_{p3})   $$\n",
    "\n",
    "$$ c = \\sigma(R^e_{p2}) / \\sigma( R^e_{p1})  $$\n",
    "\n",
    "$$  R^e_{p3} = c\\cdot R^e_{p1} = (\\sigma(R^e_{p2}) / \\sigma( R^e_{p1})) \\cdot R^e_{p1}   $$"
   ]
  },
  {
   "cell_type": "code",
   "execution_count": 11,
   "metadata": {},
   "outputs": [
    {
     "name": "stdout",
     "output_type": "stream",
     "text": [
      "0.4594157534843937\n",
      "             W1        W2        W3\n",
      "Agric  0.001123  0.108446  0.010185\n",
      "Food   0.014865  0.084424  0.134765\n",
      "Soda   0.003134 -0.012305  0.028416\n",
      "Beer   0.009577  0.030482  0.086827\n",
      "Smoke  0.019813 -0.015912  0.179624\n",
      "The sharpe ratios of portfolios W1, W2 and W3 are [1.1723398092709454, 0.5385913768159623, 1.1723398092709456]\n"
     ]
    },
    {
     "data": {
      "text/plain": [
       "<Axes: >"
      ]
     },
     "execution_count": 11,
     "metadata": {},
     "output_type": "execute_result"
    },
    {
     "data": {
      "image/png": "[encoded data removed]",
      "text/plain": [
       "<Figure size 640x480 with 1 Axes>"
      ]
     },
     "metadata": {},
     "output_type": "display_data"
    }
   ],
   "source": [
    "# your code below\n",
    "\n",
    "# Weighted Mean Variance Efficient Portfolio\n",
    "c = df_wR[\"W2\"].std()/df_wR[\"W1\"].std()\n",
    "W3 = W1*c\n",
    "Weights['W3'] = W3\n",
    "print(sum(W3))\n",
    "print(Weights.head())\n",
    "\n",
    "# Strategy Returns\n",
    "df_wR['W3'] = df_inde @ W3\n",
    "\n",
    "# Sharpe Ratios\n",
    "Sharpe3 = (df_wR['W3'].mean()/df_wR['W3'].std())*12**0.5\n",
    "\n",
    "print(f'The sharpe ratios of portfolios W1, W2 and W3 are {[Sharpe1, Sharpe2, Sharpe3]}')\n",
    "\n",
    "# Cumulative Returns\n",
    "gross = df_wR/100 + 1 #gross returns\n",
    "cum_ret = (gross.cumprod(axis=0)-1)*100\n",
    "\n",
    "cum_ret[\"W2\"].plot()"
   ]
  },
  {
   "cell_type": "code",
   "execution_count": 12,
   "metadata": {},
   "outputs": [
    {
     "data": {
      "text/plain": [
       "<Axes: >"
      ]
     },
     "execution_count": 12,
     "metadata": {},
     "output_type": "execute_result"
    },
    {
     "data": {
      "image/png": "[encoded data removed]",
      "text/plain": [
       "<Figure size 640x480 with 1 Axes>"
      ]
     },
     "metadata": {},
     "output_type": "display_data"
    }
   ],
   "source": [
    "cum_ret[\"W3\"].plot()"
   ]
  },
  {
   "cell_type": "code",
   "execution_count": 13,
   "metadata": {},
   "outputs": [],
   "source": [
    "# your explanation below\n"
   ]
  },
  {
   "cell_type": "markdown",
   "metadata": {},
   "source": [
    "**Exercise 8. The Efficient Frontier 1**\n",
    "\n",
    "We will now construct the investment frontier using portfolio strategy `W1`. \n",
    "\n",
    "The key idea is that any portolio that is in the frontier must have returns of the form \n",
    "\n",
    "$$\n",
    "\\begin{align} \n",
    "r^{frontier} &= w \\cdot r^f+(1-w)(W1 @ R) \\\\\n",
    "&= r^f+(1-w)(W1 @ (R-rf)) \\\\\n",
    "&= r^f+w (W1 @ R^{e})\n",
    "\\end{align}\n",
    "$$\n",
    "\n",
    "In terms of weights, the frontier is of the form $[1,w*W1]$ that is, a weight 1 on the risk-free rate plus a weight $w*W1$ on the long-short portfolios $R^e$, where $w$ is any scalar greater than 0 and $W1$ is the weight that solves the problem you described in question 10.\n",
    "\n",
    "This means that we can write any portfolio in the efficient frontier as:\n",
    "\n",
    "$$E[R^{frontier}]=r^f+w W1 E[R^e]$$\n",
    "\n",
    "\n",
    "$$STD[R^{frontier}]=STD[r^f+wW1 R^{e}]=wSTD[W1 R^{e}]$$\n",
    "\n",
    "Thus to trace-out the frontier you will need the mean and the volatility of the portfolio constructed with weights `W1`\n",
    "\n",
    "Do the followings to plot the frontier:\n",
    "\n",
    "1. plot the mean-standard deviation efficient frontier by varying the weight $w$ in the expression above from zero to some positive value $\\bar{w}$\n",
    "\n",
    "2. pick $\\bar{w}$ consistent with an **annual** volatility equal to 20%, so that it traces out the frontier up to the point that you have a volatility of 20%. \n",
    "\n",
    "3. the plot should have $wSTD[W1 R^{e}]$ in the x-axis and $r^f+w W1 E[R^e]$ in the y-axis. \n",
    "\n",
    "4. both mean and standard deviation should be annualized.\n",
    "\n",
    "**_Hint:_**\n",
    "find the upper bound of $w$ and then use `np.linspace` to create a array of $w$.\n",
    "\n"
   ]
  },
  {
   "cell_type": "code",
   "execution_count": null,
   "metadata": {},
   "outputs": [],
   "source": [
    "\n"
   ]
  },
  {
   "cell_type": "code",
   "execution_count": 14,
   "metadata": {},
   "outputs": [
    {
     "name": "stdout",
     "output_type": "stream",
     "text": [
      "0.11723398092709444\n",
      "1.705990007490884\n"
     ]
    },
    {
     "data": {
      "text/plain": [
       "Text(0, 0.5, 'Expected Return')"
      ]
     },
     "execution_count": 14,
     "metadata": {},
     "output_type": "execute_result"
    },
    {
     "data": {
      "image/png": "[encoded data removed]",
      "text/plain": [
       "<Figure size 640x480 with 1 Axes>"
      ]
     },
     "metadata": {},
     "output_type": "display_data"
    }
   ],
   "source": [
    "# your code below\n",
    "\n",
    "# Finding w such that the portfolio volatility equals 20%, annualized\n",
    "w_bar = 0.2/(((df_wR[\"W1\"]*0.1).std())*12**0.5)\n",
    "print(((df_wR[\"W1\"]*0.1).std())*12**0.5)\n",
    "print(w_bar)\n",
    "\n",
    "# weight grid\n",
    "w_grid = np.linspace(0,w_bar,20)\n",
    "\n",
    "# Portfolio Std and Return\n",
    "Std_p = []\n",
    "ERe_p = []\n",
    "rf = df_rmrf.loc['2015-11-30', \"RF\"]\n",
    "\n",
    "for w in w_grid:\n",
    "    Std_p.append((w*df_wR[\"W1\"].std()*12**0.5))\n",
    "    ERe_p.append((rf + w*df_wR[\"W1\"].mean())*12)\n",
    "\n",
    "plt.scatter(Std_p,ERe_p)\n",
    "plt.xlabel('Volatility')\n",
    "plt.ylabel('Expected Return')\n"
   ]
  },
  {
   "cell_type": "markdown",
   "metadata": {},
   "source": [
    "**Exercise 9. Risk free rates?**\n",
    "\n",
    "Which risk-free rate should you use in the question above? The historical average? The current one? What do you think?\n",
    "\n",
    "\n"
   ]
  },
  {
   "cell_type": "code",
   "execution_count": 15,
   "metadata": {},
   "outputs": [],
   "source": [
    "# Answer here: \n",
    "\n",
    "# The current one"
   ]
  },
  {
   "cell_type": "markdown",
   "metadata": {},
   "source": [
    "**Exercise 10. The Efficient frontier 2**\n",
    "\n",
    "For contrast, plot the means and standard deviations of the individual industry portfolio in the same plot above. So these will be additional 49 points in the same plot.\n",
    "\n",
    "What do you notice about the efficient frontier? Why that makes sense?\n",
    "\n",
    "**_Hint:_** you might find `plt.scatter` useful."
   ]
  },
  {
   "cell_type": "code",
   "execution_count": 16,
   "metadata": {},
   "outputs": [],
   "source": [
    "# your code below\n",
    "\n",
    "# Let's appennd the std and the average returns for each industry to the vectors Std_p and ERe_p above\n",
    "\n",
    "for i in ERe.index:\n",
    "    Std_p.append(Stde.loc[i]*12**0.5)\n",
    "    ERe_p.append(ERe.loc[i]*12)    \n",
    "    "
   ]
  },
  {
   "cell_type": "code",
   "execution_count": 17,
   "metadata": {},
   "outputs": [
    {
     "data": {
      "text/plain": [
       "Text(0, 0.5, 'Expected Return')"
      ]
     },
     "execution_count": 17,
     "metadata": {},
     "output_type": "execute_result"
    },
    {
     "data": {
      "image/png": "[encoded data removed]",
      "text/plain": [
       "<Figure size 640x480 with 1 Axes>"
      ]
     },
     "metadata": {},
     "output_type": "display_data"
    }
   ],
   "source": [
    "plt.scatter(Std_p,ERe_p)\n",
    "plt.xlabel('Volatility')\n",
    "plt.ylabel('Expected Return')"
   ]
  },
  {
   "cell_type": "code",
   "execution_count": null,
   "metadata": {},
   "outputs": [],
   "source": [
    "# efficient frontier has higher sharpe than any individual industry. "
   ]
  }
 ],
 "metadata": {
  "colab": {
   "collapsed_sections": [],
   "name": "Homework_2019_1.ipynb",
   "provenance": []
  },
  "kernelspec": {
   "display_name": "Python 3 (ipykernel)",
   "language": "python",
   "name": "python3"
  },
  "language_info": {
   "codemirror_mode": {
    "name": "ipython",
    "version": 3
   },
   "file_extension": ".py",
   "mimetype": "text/x-python",
   "name": "python",
   "nbconvert_exporter": "python",
   "pygments_lexer": "ipython3",
   "version": "3.11.7"
  },
  "toc": {
   "base_numbering": 1,
   "nav_menu": {},
   "number_sections": true,
   "sideBar": true,
   "skip_h1_title": false,
   "title_cell": "Table of Contents",
   "title_sidebar": "Contents",
   "toc_cell": false,
   "toc_position": {},
   "toc_section_display": true,
   "toc_window_display": true
  },
  "toc-autonumbering": true
 },
 "nbformat": 4,
 "nbformat_minor": 4
}
