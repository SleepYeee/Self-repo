{
 "cells": [
  {
   "cell_type": "markdown",
   "metadata": {
    "id": "WI820A_Bp_NH"
   },
   "source": [
    "# Assignment 4\n",
    "\n",
    "\n",
    "Comments:\n",
    "\n",
    "- Make sure that everything is compiled before saving it.\n",
    "- Obviously feel free to add as many cells as needed in each section.\n",
    "- Cells should not be too large. Keep code organized and clean."
   ]
  },
  {
   "cell_type": "markdown",
   "metadata": {
    "id": "wVAN3J3Vp_NJ"
   },
   "source": [
    "## Write your names and simon emails\n",
    "\n",
    "Please write names below:\n",
    "\n",
    "* [Name,email]:\n",
    "* [Name,email]:\n",
    "\n",
    "\n",
    "\n"
   ]
  },
  {
   "cell_type": "markdown",
   "metadata": {
    "id": "RihsqPk-gNis"
   },
   "source": [
    "# Exercises\n",
    "\n",
    "\n"
   ]
  },
  {
   "cell_type": "markdown",
   "metadata": {
    "id": "dPj_4z3QgNit"
   },
   "source": [
    "**Exercise 1**\n",
    "\n",
    "In order to proceed you need the file `url=\"https://github.com/amoreira2/Fin418/blob/main/assets/data/crspm2005_2020.pkl?raw=true\"`. \n",
    "\n",
    "\n",
    "Start by importing the data, parsing the date appropriately.\n",
    "\n",
    "\n",
    "Using the momentum code we developed in chapter 13.2 as a starting point, I would like you to make it a general function that takes the following parameters as inputs:\n",
    "\n",
    "   - lookback period. \n",
    "   - how many months to skip between signal and portfolio formation.\n",
    "   - number of groups, i.e., the number of portfolios.\n",
    "   - weighting scheme: equal-weighted, market-cap-weighted, volume-weighted.\n",
    " \n",
    "The signal is the cumulative returns in the lookback window.\n",
    "   \n",
    "\n",
    "   \n",
    "The code should output **a time-series of returns** of the portfolio that goes long the top group (the one in the top of the signal distribution) and shorts the bottom group (the one with stocks from the bottom of the signal distribution).\n",
    "\n",
    "\n",
    "Name this function `strategy`.\n",
    "\n",
    "TIP:\n",
    "\n",
    "This is the same data set that we used in Chapter 13.1 to build market cap weights. So you should look there how things were setup and of course, the same data set we used in chapter 13.2.\n",
    "\n",
    "It is your reponsibility to import this properly and adjust to any aspects of the dataset. For example, make sure you take absolute values of price to ensure that market cap is positive.\n"
   ]
  },
  {
   "cell_type": "code",
   "execution_count": 1,
   "metadata": {
    "id": "tXSNgxsZgNiu",
    "scrolled": true
   },
   "outputs": [
    {
     "data": {
      "text/html": [
       "<div>\n",
       "<style scoped>\n",
       "    .dataframe tbody tr th:only-of-type {\n",
       "        vertical-align: middle;\n",
       "    }\n",
       "\n",
       "    .dataframe tbody tr th {\n",
       "        vertical-align: top;\n",
       "    }\n",
       "\n",
       "    .dataframe thead th {\n",
       "        text-align: right;\n",
       "    }\n",
       "</style>\n",
       "<table border=\"1\" class=\"dataframe\">\n",
       "  <thead>\n",
       "    <tr style=\"text-align: right;\">\n",
       "      <th></th>\n",
       "      <th>permno</th>\n",
       "      <th>date</th>\n",
       "      <th>shrcd</th>\n",
       "      <th>exchcd</th>\n",
       "      <th>ret</th>\n",
       "      <th>shrout</th>\n",
       "      <th>prc</th>\n",
       "      <th>retx</th>\n",
       "      <th>vol</th>\n",
       "    </tr>\n",
       "  </thead>\n",
       "  <tbody>\n",
       "    <tr>\n",
       "      <th>0</th>\n",
       "      <td>11671</td>\n",
       "      <td>2005-01-31</td>\n",
       "      <td>11.0</td>\n",
       "      <td>3.0</td>\n",
       "      <td>0.016491</td>\n",
       "      <td>3692.0</td>\n",
       "      <td>2.219000</td>\n",
       "      <td>0.016491</td>\n",
       "      <td>722.0</td>\n",
       "    </tr>\n",
       "    <tr>\n",
       "      <th>1</th>\n",
       "      <td>10001</td>\n",
       "      <td>2005-01-31</td>\n",
       "      <td>11.0</td>\n",
       "      <td>3.0</td>\n",
       "      <td>-0.040580</td>\n",
       "      <td>2595.0</td>\n",
       "      <td>6.620000</td>\n",
       "      <td>-0.040580</td>\n",
       "      <td>515.0</td>\n",
       "    </tr>\n",
       "    <tr>\n",
       "      <th>2</th>\n",
       "      <td>10002</td>\n",
       "      <td>2005-01-31</td>\n",
       "      <td>11.0</td>\n",
       "      <td>3.0</td>\n",
       "      <td>-0.132466</td>\n",
       "      <td>11021.0</td>\n",
       "      <td>21.350000</td>\n",
       "      <td>-0.132466</td>\n",
       "      <td>3872.0</td>\n",
       "    </tr>\n",
       "    <tr>\n",
       "      <th>3</th>\n",
       "      <td>11674</td>\n",
       "      <td>2005-01-31</td>\n",
       "      <td>11.0</td>\n",
       "      <td>1.0</td>\n",
       "      <td>0.015766</td>\n",
       "      <td>173958.0</td>\n",
       "      <td>43.810001</td>\n",
       "      <td>0.015766</td>\n",
       "      <td>116791.0</td>\n",
       "    </tr>\n",
       "    <tr>\n",
       "      <th>4</th>\n",
       "      <td>11681</td>\n",
       "      <td>2005-01-31</td>\n",
       "      <td>11.0</td>\n",
       "      <td>2.0</td>\n",
       "      <td>0.337143</td>\n",
       "      <td>18388.0</td>\n",
       "      <td>2.340000</td>\n",
       "      <td>0.337143</td>\n",
       "      <td>6260.0</td>\n",
       "    </tr>\n",
       "  </tbody>\n",
       "</table>\n",
       "</div>"
      ],
      "text/plain": [
       "   permno       date  shrcd  exchcd       ret    shrout        prc      retx  \\\n",
       "0   11671 2005-01-31   11.0     3.0  0.016491    3692.0   2.219000  0.016491   \n",
       "1   10001 2005-01-31   11.0     3.0 -0.040580    2595.0   6.620000 -0.040580   \n",
       "2   10002 2005-01-31   11.0     3.0 -0.132466   11021.0  21.350000 -0.132466   \n",
       "3   11674 2005-01-31   11.0     1.0  0.015766  173958.0  43.810001  0.015766   \n",
       "4   11681 2005-01-31   11.0     2.0  0.337143   18388.0   2.340000  0.337143   \n",
       "\n",
       "        vol  \n",
       "0     722.0  \n",
       "1     515.0  \n",
       "2    3872.0  \n",
       "3  116791.0  \n",
       "4    6260.0  "
      ]
     },
     "execution_count": 1,
     "metadata": {},
     "output_type": "execute_result"
    }
   ],
   "source": [
    "# your code below\n",
    "import pandas as pd\n",
    "import numpy as np\n",
    "import matplotlib.pyplot as plt\n",
    "%matplotlib inline\n",
    "\n",
    "url= \"https://github.com/amoreira2/Fin418/blob/main/assets/data/crspm2005_2020.pkl?raw=true\"\n",
    "df = pd.read_pickle(url)\n",
    "df[['permno']]=df[['permno']].astype(int)\n",
    "df.head()\n"
   ]
  },
  {
   "cell_type": "code",
   "execution_count": 2,
   "metadata": {},
   "outputs": [],
   "source": [
    "def strategy(df,ngroups=10,lookback=11,skip=2,weight=\"ew\"):\n",
    "\n",
    "\n",
    "    # This function takes a data frame with columns 'permno' = stock identifier, 'ret' = returns, 'date' = date,\n",
    "    # 'shrout' = shares outstanding, 'prc' = price, 'vol' = volume traded;\n",
    "    # It creates a momentum strategy with arguments lookback, for the lookback period, skip, for skipping a number of months\n",
    "    # between the estimation and the portfolio formation period, and weight = {\"ew\", \"mw\", \"vw\"} which denotes\n",
    "    # equal weighted, market weighted and volume weighted. The output is the return of a portfolio that goes \n",
    "    # long the group of assets with the highest momentum and shorts the group of assets with the lowest. \n",
    "    # ngroups is the number of groups we choose to partition the assets.\n",
    "    \n",
    "    df['mcap'] = df['prc'].abs()*df['shrout'] # creating the market cap column\n",
    "    df['gross'] = 1+df['ret']\n",
    "    df=df.set_index(['date'])\n",
    "    temp=(df.groupby('permno')[['gross']]).rolling(window=lookback,min_periods=int(np.ceil(lookback))).apply(np.prod, raw=True)-1\n",
    "    temp=temp.rename(columns={'gross':'cumret'})\n",
    "    temp=temp.reset_index()\n",
    "    temp=pd.merge(df.reset_index(), temp[['permno','date','cumret']], how='left', on=['permno','date'])\n",
    "    temp=temp.sort_values(['date','permno'])\n",
    "    temp['mom']=temp.groupby('permno')['cumret'].shift(skip)\n",
    "    temp=temp.dropna(subset=['mom'], how='any')\n",
    "    temp['mom_group']=temp.groupby(['date'], group_keys=False)['mom'].apply(lambda x: pd.qcut(x, ngroups, \\\n",
    "                                                                           labels=False, duplicates='drop'))\n",
    "    weight = weight\n",
    "    if weight == \"mw\":\n",
    "        mom_w = temp.groupby(['date','mom_group']).apply(lambda x:(x.ret*x.mcap).sum()/x.mcap.sum())\n",
    "        mom_w = mom_w.unstack(level=-1)\n",
    "    elif weight == \"ew\":\n",
    "        mom_w = temp.groupby(['date','mom_group']).apply(lambda x: x.ret.mean())\n",
    "        mom_w = mom_w.unstack(level=-1)\n",
    "    else:\n",
    "        mom_w = temp.groupby(['date','mom_group']).apply(lambda x:(x.ret*x.vol).sum()/x.vol.sum())\n",
    "        mom_w = mom_w.unstack(level=-1)\n",
    "\n",
    "    last = ngroups - 1\n",
    "    r_strategy = mom_w[last].subtract(mom_w[0])\n",
    "    return r_strategy\n"
   ]
  },
  {
   "cell_type": "markdown",
   "metadata": {
    "id": "ZFcSd1pPgNiu"
   },
   "source": [
    "**Exercise 2**\n",
    "\n",
    "We will now show that the code works. Do a for loop, where you skip **one** month (and not two!), and you grow the lookback period from 1 to 60 months. Record the Sharpe Ratio for each of these lookbacks. Plot the SR of the long-short portfolio as a function of the lookback period ( y-axis SR, x-axis lookback period). \n",
    "\n",
    "Discuss what you found.\n",
    "\n",
    "TIP: This code is likely to run for several minutes. First do it for a list of several months (e.g., 1, 3, 6, 12 months) and then after verifying that the code works extend it to all months between 1 and 60."
   ]
  },
  {
   "cell_type": "code",
   "execution_count": 3,
   "metadata": {
    "id": "tEu_EbEygNiv"
   },
   "outputs": [
    {
     "data": {
      "text/plain": [
       "<matplotlib.legend.Legend at 0x147467090>"
      ]
     },
     "execution_count": 3,
     "metadata": {},
     "output_type": "execute_result"
    },
    {
     "data": {
      "image/png": "[encoded data removed]",
      "text/plain": [
       "<Figure size 640x480 with 1 Axes>"
      ]
     },
     "metadata": {},
     "output_type": "display_data"
    }
   ],
   "source": [
    "# your code below\n",
    "SR = pd.DataFrame([], columns=[\"ew\", \"mw\", \"vw\"], index=np.arange(1,61))\n",
    "\n",
    "for j in SR.columns:\n",
    "    for i in SR.index:\n",
    "        avg = strategy(df,ngroups=10,lookback=i,skip=1,weight=j).mean()*12\n",
    "        std = strategy(df,ngroups=10,lookback=i,skip=1,weight=j).std()*12**0.5\n",
    "        SR.loc[i,j]=avg/std\n",
    "\n",
    "plt.scatter(SR.index,SR[\"ew\"], label=\"Equal Weighted\")\n",
    "plt.scatter(SR.index,SR[\"mw\"], label=\"Market Weighted\")\n",
    "plt.scatter(SR.index,SR[\"vw\"], label=\"Volume Weighted\")\n",
    "plt.ylabel(\"Sharpe Ratio\")\n",
    "plt.xlabel(\"Lookback / Skip 1\")\n",
    "plt.legend()\n",
    "\n",
    "    \n",
    "    "
   ]
  },
  {
   "cell_type": "code",
   "execution_count": 4,
   "metadata": {
    "id": "wFsZ7HGIgNiw"
   },
   "outputs": [],
   "source": [
    "# your discussion below\n"
   ]
  },
  {
   "cell_type": "markdown",
   "metadata": {
    "id": "xZshkqLcgNiw"
   },
   "source": [
    "**Exercise 3**\n",
    "\n",
    "Repeat what you did in 2.2, but now skipping 2 months\n",
    "\n",
    "Discuss what you found.\n"
   ]
  },
  {
   "cell_type": "code",
   "execution_count": 5,
   "metadata": {
    "id": "hprJl6LFgNix"
   },
   "outputs": [
    {
     "data": {
      "text/plain": [
       "<matplotlib.legend.Legend at 0x147589010>"
      ]
     },
     "execution_count": 5,
     "metadata": {},
     "output_type": "execute_result"
    },
    {
     "data": {
      "image/png": "[encoded data removed]",
      "text/plain": [
       "<Figure size 640x480 with 1 Axes>"
      ]
     },
     "metadata": {},
     "output_type": "display_data"
    }
   ],
   "source": [
    "# your code below\n",
    "SR_skip2 = pd.DataFrame([], columns=[\"ew\", \"mw\", \"vw\"], index=np.arange(1,61))\n",
    "\n",
    "for j in SR_skip2.columns:\n",
    "    for i in SR_skip2.index:\n",
    "        avg = strategy(df,ngroups=10,lookback=i,skip=2,weight=j).mean()*12\n",
    "        std = strategy(df,ngroups=10,lookback=i,skip=2,weight=j).std()*12**0.5\n",
    "        SR_skip2.loc[i,j]=avg/std\n",
    "\n",
    "plt.scatter(SR_skip2.index,SR_skip2[\"ew\"], label=\"Equal Weighted\")\n",
    "plt.scatter(SR_skip2.index,SR_skip2[\"mw\"], label=\"Market Weighted\")\n",
    "plt.scatter(SR_skip2.index,SR_skip2[\"vw\"], label=\"Volume Weighted\")\n",
    "plt.ylabel(\"Sharpe Ratio\")\n",
    "plt.xlabel(\"Lookback / Skip 2\")\n",
    "plt.legend()"
   ]
  },
  {
   "cell_type": "code",
   "execution_count": 6,
   "metadata": {
    "id": "sv1V9twagNix"
   },
   "outputs": [],
   "source": [
    "# your discussion below\n"
   ]
  },
  {
   "cell_type": "markdown",
   "metadata": {
    "id": "TIT_J54sgNix"
   },
   "source": [
    "**Exercise 4**\n",
    "\n",
    "Do a for loop, where you do the standard momentum strategy (lookback 10, skip 2 months) using the following number of groups:  2,3,5,10,20, and 50 . Record the **Sharpe Ratio** for each of these. Plot the SR as a function of the number of groups. \n",
    "\n",
    "Discuss what you found.\n",
    "\n"
   ]
  },
  {
   "cell_type": "code",
   "execution_count": 7,
   "metadata": {
    "id": "ThkRaFwRgNiy"
   },
   "outputs": [
    {
     "data": {
      "text/plain": [
       "<matplotlib.legend.Legend at 0x1475ff090>"
      ]
     },
     "execution_count": 7,
     "metadata": {},
     "output_type": "execute_result"
    },
    {
     "data": {
      "image/png": "[encoded data removed]",
      "text/plain": [
       "<Figure size 640x480 with 1 Axes>"
      ]
     },
     "metadata": {},
     "output_type": "display_data"
    }
   ],
   "source": [
    "# your code below\n",
    "SR_groups = pd.DataFrame([], columns=[\"ew\", \"mw\", \"vw\"], index=[2,3,5,10,20,50])\n",
    "\n",
    "for j in SR_groups.columns:\n",
    "    for i in SR_groups.index:\n",
    "        avg = strategy(df,ngroups=i,lookback=10,skip=2,weight=j).mean()*12\n",
    "        std = strategy(df,ngroups=i,lookback=10,skip=2,weight=j).std()*12**0.5\n",
    "        SR_groups.loc[i,j]=avg/std\n",
    "\n",
    "plt.scatter(SR_groups.index,SR_groups[\"ew\"], label=\"Equal Weighted\")\n",
    "plt.scatter(SR_groups.index,SR_groups[\"mw\"], label=\"Market Weighted\")\n",
    "plt.scatter(SR_groups.index,SR_groups[\"vw\"], label=\"Volume Weighted\")\n",
    "plt.ylabel(\"Sharpe Ratio\")\n",
    "plt.xlabel(\"# of Groups\")\n",
    "plt.legend()"
   ]
  },
  {
   "cell_type": "code",
   "execution_count": 8,
   "metadata": {
    "id": "iFr0oZ6ugNiy"
   },
   "outputs": [],
   "source": [
    "# your discussion below\n"
   ]
  },
  {
   "cell_type": "markdown",
   "metadata": {
    "id": "eZQEiBhqgNiy"
   },
   "source": [
    "**Exercise 5**\n",
    "\n",
    "Show that your code works, by doing a for loop, where you do the standard momentum strategy (lookback 10, skip 2, 10 groups) using all the **three weighting schemes** (Equal weighted, Value weighted and Volume weighted). Record and plot the Sharpe ratio\n",
    "\n",
    "Discuss what you found.\n",
    "\n"
   ]
  },
  {
   "cell_type": "markdown",
   "metadata": {
    "id": "Xzryo_oogNiy"
   },
   "source": [
    "**your code below**\n",
    "\n",
    "Done above already for all strategies."
   ]
  },
  {
   "cell_type": "code",
   "execution_count": 9,
   "metadata": {
    "id": "dUUuSEaegNiz"
   },
   "outputs": [],
   "source": [
    "# your discussion below\n"
   ]
  },
  {
   "cell_type": "markdown",
   "metadata": {
    "id": "GAr0GiIJgNiz"
   },
   "source": [
    "**Exercise 6**\n",
    "\n",
    "Does our strategy beat the CAPM?\n",
    "\n",
    "**The goal here is to construct a function** that for a given time-series of a strategy excess returns it estimates the strategy alpha and beta with respect to the market excess return. It then reports the following objects\n",
    "\n",
    "\n",
    "1. Annualized average excess returns\n",
    "1. Annualized standard deviation\n",
    "1. Annualize Sharpe Ratio\n",
    "1. CAPM Beta\n",
    "1. annualized CAPM alpha\n",
    "1. Annualized Appraisal ratio\n",
    "1. Maximum Sharpe Ratio obtained by investing optimally in the strategy and the market\n",
    "1. Annualized standard deviation of strategy systematic risk\n",
    "1. Annualized standard deviation of the strategy idiosyncratic risk\n",
    "\n",
    "\n",
    "\n",
    "\n",
    "To do so you will need to  import also the market portfolio from this data set `url=\"https://raw.githubusercontent.com/amoreira2/Fin418/main/assets/data/MonthlyFactors.csv\"` and merge with the time-series of your strategy.\n",
    "\n",
    "TIPS:\n",
    "\n",
    " - To do that you will need to first construct your portfolios (so you have a time-series of returns for each), and then in the end, once you have the different portfolios in the columns and the dates in the rows, you will merge on date with the data frame that has the market returns.\n",
    " - It is very important that you import the monthly factors data set correctly for the merge to work\n",
    " - We have done that multiple times by now. \n",
    " - also make sure that these returns are in the same units as your portfolio\n",
    " \n",
    " \n",
    " The function should look like that\n",
    " \n",
    " \n",
    " `output=perfeval(df,factor)`\n",
    " \n",
    " \n",
    "where df is a dataframe containing your strategy excess returns or long-short returns, output is a Dataframe with 9 columns containing the desired outputs (name each column properly), and factor is the dataframe containing the market **excess** return. Please note that the data has **the market returns** and you need to compute the market excess return before merging.  \n",
    "\n",
    "\n",
    "The function must merge df and factor, then run an OLS regression, and the output the desired quantities above.\n",
    "\n",
    "Show that the function works by applying it to the standard Momentum strategy with value-weighted scheme (where you should simply use two functions, one built in question 2.1 to construct the strategy and the function that you just build to do performance evaluation)."
   ]
  },
  {
   "cell_type": "code",
   "execution_count": 10,
   "metadata": {
    "id": "v0Xd7PL-gNiz",
    "scrolled": true
   },
   "outputs": [],
   "source": [
    "# your code below\n",
    "url=\"https://raw.githubusercontent.com/amoreira2/Fin418/main/assets/data/MonthlyFactors.csv\"\n",
    "factor = pd.read_csv(url)\n",
    "factor[\"Date\"] = pd.to_datetime(factor[\"Date\"])\n",
    "\n",
    "# Factors Excess Returns\n",
    "factore = factor\n",
    "factore.set_index(\"Date\", inplace=True)\n",
    "factore = factore.subtract(factore[\"RF\"], axis=0)\n",
    "factore.drop(columns=[\"RF\"], axis=1, inplace=True)\n",
    "factore = factore/100\n",
    "\n",
    "# Strategy Returns\n",
    "df2 = pd.DataFrame(strategy(df,ngroups=10,lookback=11,skip=2,weight=\"mw\"), columns=[\"strategy\"])\n"
   ]
  },
  {
   "cell_type": "code",
   "execution_count": 11,
   "metadata": {},
   "outputs": [
    {
     "data": {
      "text/html": [
       "<div>\n",
       "<style scoped>\n",
       "    .dataframe tbody tr th:only-of-type {\n",
       "        vertical-align: middle;\n",
       "    }\n",
       "\n",
       "    .dataframe tbody tr th {\n",
       "        vertical-align: top;\n",
       "    }\n",
       "\n",
       "    .dataframe thead th {\n",
       "        text-align: right;\n",
       "    }\n",
       "</style>\n",
       "<table border=\"1\" class=\"dataframe\">\n",
       "  <thead>\n",
       "    <tr style=\"text-align: right;\">\n",
       "      <th></th>\n",
       "      <th>mean</th>\n",
       "      <th>std</th>\n",
       "      <th>sr</th>\n",
       "      <th>beta</th>\n",
       "      <th>alpha</th>\n",
       "      <th>appraisal</th>\n",
       "      <th>max_sr</th>\n",
       "      <th>syst_std</th>\n",
       "      <th>idio_std</th>\n",
       "    </tr>\n",
       "  </thead>\n",
       "  <tbody>\n",
       "    <tr>\n",
       "      <th>results</th>\n",
       "      <td>-0.243066</td>\n",
       "      <td>0.418867</td>\n",
       "      <td>-0.580293</td>\n",
       "      <td>-0.962522</td>\n",
       "      <td>-0.139749</td>\n",
       "      <td>-0.359541</td>\n",
       "      <td>0.753158</td>\n",
       "      <td>0.156115</td>\n",
       "      <td>0.388687</td>\n",
       "    </tr>\n",
       "  </tbody>\n",
       "</table>\n",
       "</div>"
      ],
      "text/plain": [
       "             mean       std        sr      beta     alpha  appraisal  \\\n",
       "results -0.243066  0.418867 -0.580293 -0.962522 -0.139749  -0.359541   \n",
       "\n",
       "           max_sr  syst_std  idio_std  \n",
       "results  0.753158  0.156115  0.388687  "
      ]
     },
     "execution_count": 11,
     "metadata": {},
     "output_type": "execute_result"
    }
   ],
   "source": [
    "# Performance Evaluation Function\n",
    "\n",
    "def perfval(df,factor):\n",
    "    temp = pd.merge(factor, df, left_index=True, right_index=True)\n",
    "    Results = pd.DataFrame([], index=[\"results\"], columns=[\"mean\", \"std\", \"sr\", \"beta\", \"alpha\", \"appraisal\", \"max_sr\", \"syst_std\", \"idio_std\"])\n",
    "    Results[\"mean\"] = temp[\"strategy\"].mean()*12 # annualized average return of the strategy\n",
    "    Results[\"std\"] = temp[\"strategy\"].std()*12**0.5 # annualized standard deviation of the strategy\n",
    "    Results[\"sr\"] = temp[\"strategy\"].mean()*12/(temp[\"strategy\"].std()*12**0.5) # annualized sharpe\n",
    "\n",
    "    # CAPM \n",
    "    import statsmodels.api as sm\n",
    "    x = temp[[\"MKT\"]]\n",
    "    x = sm.add_constant(x)\n",
    "    y = temp[[\"strategy\"]]\n",
    "    model = sm.OLS(y, x).fit()\n",
    "\n",
    "    Results[\"beta\"] = model.params.iloc[1] # CAPM beta\n",
    "    Results[\"alpha\"] = model.params.iloc[0]*12 # annualized CAPM alpha\n",
    "    Results[\"appraisal\"] = model.params.iloc[0]*12/(model.resid.std()*12**0.5) # annualized appraisal ratio\n",
    "\n",
    "    # Maximum Sharpe - MVE\n",
    "    temp2 = temp[[\"MKT\", \"strategy\"]]\n",
    "    ERe = temp2.mean()\n",
    "    Cove = temp2.cov()\n",
    "    weights = ERe @ np.linalg.inv(Cove)\n",
    "    Results[\"max_sr\"] = (temp2 @ weights).mean()*12 / ((temp2 @ weights).std()*12**0.5)\n",
    "\n",
    "    Results[\"syst_std\"] = (((model.params.iloc[1]**2)*temp[\"MKT\"].std()**2)**0.5)*12**0.5\n",
    "    Results[\"idio_std\"] = model.resid.std()*12**0.5\n",
    "\n",
    "    return Results\n",
    "\n",
    "perfval(df2, factore)\n",
    "\n"
   ]
  },
  {
   "cell_type": "markdown",
   "metadata": {
    "id": "jS5Ti9nPgNiz"
   },
   "source": [
    "**Exercise 7** \n",
    "Searching for the best strategy\n",
    "\n",
    "Now you have two functions. The first function construct a strategy, the second evaluates.\n",
    "\n",
    "Propose  an algorithm that searches across the parameters of your strategy function for the best strategy across your dimension of choice. (No need to actually do it)\n",
    "\n",
    "\n",
    "The `perfeval` function outputs several performance metrics. Choose one or combinations of the various metrics. Please explain your choice of metric. Explain briefly the idea behind your search algorithm.\n"
   ]
  },
  {
   "cell_type": "markdown",
   "metadata": {
    "id": "HPKAR0D7gNi0"
   },
   "source": [
    "**your answer below**\n",
    "\n",
    "Open question."
   ]
  },
  {
   "cell_type": "markdown",
   "metadata": {
    "id": "LV3NsDtZgNi0"
   },
   "source": [
    "**Exercise 8**\n",
    "\n",
    "What is  the main pitfall/weakness of the approach taken in Exercise 7 to find the best strategy ?\n",
    "\n",
    "Explain how you could modify this approach to improve the methodology with respect to this weakness (no need to do it!)."
   ]
  },
  {
   "cell_type": "markdown",
   "metadata": {
    "id": "RxH_THpfgNi0"
   },
   "source": [
    "**your answer below**\n",
    "\n",
    "Open question.\n"
   ]
  },
  {
   "cell_type": "markdown",
   "metadata": {
    "id": "A9qTAObMgNi0"
   },
   "source": [
    "**Exercise 9**\n",
    "\n",
    "Can you change the strategy function that you build in Exercise 1 to construct portfolios based on the last N months volatility?\n",
    "\n",
    "Demonstrating that it works by applying the function to 10 groups using a rolling windown of 24 months to estimate the volatility signal."
   ]
  },
  {
   "cell_type": "code",
   "execution_count": 12,
   "metadata": {
    "id": "97MojU27gNi0"
   },
   "outputs": [
    {
     "data": {
      "text/html": [
       "<div>\n",
       "<style scoped>\n",
       "    .dataframe tbody tr th:only-of-type {\n",
       "        vertical-align: middle;\n",
       "    }\n",
       "\n",
       "    .dataframe tbody tr th {\n",
       "        vertical-align: top;\n",
       "    }\n",
       "\n",
       "    .dataframe thead th {\n",
       "        text-align: right;\n",
       "    }\n",
       "</style>\n",
       "<table border=\"1\" class=\"dataframe\">\n",
       "  <thead>\n",
       "    <tr style=\"text-align: right;\">\n",
       "      <th>volatility_group</th>\n",
       "      <th>0</th>\n",
       "      <th>1</th>\n",
       "      <th>2</th>\n",
       "      <th>3</th>\n",
       "      <th>4</th>\n",
       "      <th>5</th>\n",
       "      <th>6</th>\n",
       "      <th>7</th>\n",
       "      <th>8</th>\n",
       "      <th>9</th>\n",
       "    </tr>\n",
       "    <tr>\n",
       "      <th>date</th>\n",
       "      <th></th>\n",
       "      <th></th>\n",
       "      <th></th>\n",
       "      <th></th>\n",
       "      <th></th>\n",
       "      <th></th>\n",
       "      <th></th>\n",
       "      <th></th>\n",
       "      <th></th>\n",
       "      <th></th>\n",
       "    </tr>\n",
       "  </thead>\n",
       "  <tbody>\n",
       "    <tr>\n",
       "      <th>2006-09-29</th>\n",
       "      <td>0.022223</td>\n",
       "      <td>0.126786</td>\n",
       "      <td>-0.042474</td>\n",
       "      <td>0.081775</td>\n",
       "      <td>0.027383</td>\n",
       "      <td>-0.009058</td>\n",
       "      <td>-0.063756</td>\n",
       "      <td>-0.003725</td>\n",
       "      <td>-0.005765</td>\n",
       "      <td>0.096934</td>\n",
       "    </tr>\n",
       "    <tr>\n",
       "      <th>2007-02-28</th>\n",
       "      <td>-0.016106</td>\n",
       "      <td>-0.023117</td>\n",
       "      <td>-0.014001</td>\n",
       "      <td>-0.014931</td>\n",
       "      <td>0.006244</td>\n",
       "      <td>-0.002879</td>\n",
       "      <td>-0.003287</td>\n",
       "      <td>0.015805</td>\n",
       "      <td>0.005216</td>\n",
       "      <td>0.011561</td>\n",
       "    </tr>\n",
       "    <tr>\n",
       "      <th>2007-03-30</th>\n",
       "      <td>0.010398</td>\n",
       "      <td>0.006673</td>\n",
       "      <td>0.021374</td>\n",
       "      <td>0.015154</td>\n",
       "      <td>0.006787</td>\n",
       "      <td>0.027851</td>\n",
       "      <td>0.033215</td>\n",
       "      <td>0.029549</td>\n",
       "      <td>0.012299</td>\n",
       "      <td>0.027917</td>\n",
       "    </tr>\n",
       "    <tr>\n",
       "      <th>2007-04-30</th>\n",
       "      <td>0.032058</td>\n",
       "      <td>0.049264</td>\n",
       "      <td>0.047798</td>\n",
       "      <td>0.046917</td>\n",
       "      <td>0.040715</td>\n",
       "      <td>0.046131</td>\n",
       "      <td>0.053184</td>\n",
       "      <td>0.070558</td>\n",
       "      <td>0.017216</td>\n",
       "      <td>0.069577</td>\n",
       "    </tr>\n",
       "    <tr>\n",
       "      <th>2007-05-31</th>\n",
       "      <td>0.025516</td>\n",
       "      <td>0.032097</td>\n",
       "      <td>0.051585</td>\n",
       "      <td>0.039436</td>\n",
       "      <td>0.039506</td>\n",
       "      <td>0.071600</td>\n",
       "      <td>0.058996</td>\n",
       "      <td>0.068664</td>\n",
       "      <td>0.053063</td>\n",
       "      <td>0.031408</td>\n",
       "    </tr>\n",
       "    <tr>\n",
       "      <th>...</th>\n",
       "      <td>...</td>\n",
       "      <td>...</td>\n",
       "      <td>...</td>\n",
       "      <td>...</td>\n",
       "      <td>...</td>\n",
       "      <td>...</td>\n",
       "      <td>...</td>\n",
       "      <td>...</td>\n",
       "      <td>...</td>\n",
       "      <td>...</td>\n",
       "    </tr>\n",
       "    <tr>\n",
       "      <th>2020-08-31</th>\n",
       "      <td>0.062928</td>\n",
       "      <td>0.065230</td>\n",
       "      <td>0.107120</td>\n",
       "      <td>0.075833</td>\n",
       "      <td>0.054498</td>\n",
       "      <td>0.102004</td>\n",
       "      <td>0.088216</td>\n",
       "      <td>0.426654</td>\n",
       "      <td>0.221271</td>\n",
       "      <td>0.054760</td>\n",
       "    </tr>\n",
       "    <tr>\n",
       "      <th>2020-09-30</th>\n",
       "      <td>-0.023967</td>\n",
       "      <td>-0.022650</td>\n",
       "      <td>-0.067081</td>\n",
       "      <td>-0.028651</td>\n",
       "      <td>-0.037554</td>\n",
       "      <td>-0.017344</td>\n",
       "      <td>-0.020760</td>\n",
       "      <td>-0.062235</td>\n",
       "      <td>0.049970</td>\n",
       "      <td>0.100249</td>\n",
       "    </tr>\n",
       "    <tr>\n",
       "      <th>2020-10-30</th>\n",
       "      <td>-0.017459</td>\n",
       "      <td>-0.028329</td>\n",
       "      <td>-0.030038</td>\n",
       "      <td>0.008025</td>\n",
       "      <td>0.016313</td>\n",
       "      <td>0.006455</td>\n",
       "      <td>0.035930</td>\n",
       "      <td>0.104804</td>\n",
       "      <td>-0.045179</td>\n",
       "      <td>-0.052582</td>\n",
       "    </tr>\n",
       "    <tr>\n",
       "      <th>2020-11-30</th>\n",
       "      <td>0.080272</td>\n",
       "      <td>0.131303</td>\n",
       "      <td>0.132641</td>\n",
       "      <td>0.110105</td>\n",
       "      <td>0.183267</td>\n",
       "      <td>0.207241</td>\n",
       "      <td>0.231384</td>\n",
       "      <td>0.315112</td>\n",
       "      <td>0.424228</td>\n",
       "      <td>0.376853</td>\n",
       "    </tr>\n",
       "    <tr>\n",
       "      <th>2020-12-31</th>\n",
       "      <td>0.021795</td>\n",
       "      <td>0.045420</td>\n",
       "      <td>0.077895</td>\n",
       "      <td>0.070111</td>\n",
       "      <td>0.048647</td>\n",
       "      <td>0.074988</td>\n",
       "      <td>0.116479</td>\n",
       "      <td>0.083369</td>\n",
       "      <td>0.224108</td>\n",
       "      <td>0.099516</td>\n",
       "    </tr>\n",
       "  </tbody>\n",
       "</table>\n",
       "<p>168 rows × 10 columns</p>\n",
       "</div>"
      ],
      "text/plain": [
       "volatility_group         0         1         2         3         4         5  \\\n",
       "date                                                                           \n",
       "2006-09-29        0.022223  0.126786 -0.042474  0.081775  0.027383 -0.009058   \n",
       "2007-02-28       -0.016106 -0.023117 -0.014001 -0.014931  0.006244 -0.002879   \n",
       "2007-03-30        0.010398  0.006673  0.021374  0.015154  0.006787  0.027851   \n",
       "2007-04-30        0.032058  0.049264  0.047798  0.046917  0.040715  0.046131   \n",
       "2007-05-31        0.025516  0.032097  0.051585  0.039436  0.039506  0.071600   \n",
       "...                    ...       ...       ...       ...       ...       ...   \n",
       "2020-08-31        0.062928  0.065230  0.107120  0.075833  0.054498  0.102004   \n",
       "2020-09-30       -0.023967 -0.022650 -0.067081 -0.028651 -0.037554 -0.017344   \n",
       "2020-10-30       -0.017459 -0.028329 -0.030038  0.008025  0.016313  0.006455   \n",
       "2020-11-30        0.080272  0.131303  0.132641  0.110105  0.183267  0.207241   \n",
       "2020-12-31        0.021795  0.045420  0.077895  0.070111  0.048647  0.074988   \n",
       "\n",
       "volatility_group         6         7         8         9  \n",
       "date                                                      \n",
       "2006-09-29       -0.063756 -0.003725 -0.005765  0.096934  \n",
       "2007-02-28       -0.003287  0.015805  0.005216  0.011561  \n",
       "2007-03-30        0.033215  0.029549  0.012299  0.027917  \n",
       "2007-04-30        0.053184  0.070558  0.017216  0.069577  \n",
       "2007-05-31        0.058996  0.068664  0.053063  0.031408  \n",
       "...                    ...       ...       ...       ...  \n",
       "2020-08-31        0.088216  0.426654  0.221271  0.054760  \n",
       "2020-09-30       -0.020760 -0.062235  0.049970  0.100249  \n",
       "2020-10-30        0.035930  0.104804 -0.045179 -0.052582  \n",
       "2020-11-30        0.231384  0.315112  0.424228  0.376853  \n",
       "2020-12-31        0.116479  0.083369  0.224108  0.099516  \n",
       "\n",
       "[168 rows x 10 columns]"
      ]
     },
     "execution_count": 12,
     "metadata": {},
     "output_type": "execute_result"
    }
   ],
   "source": [
    "# your code below\n",
    "def strategy_volatility(df,ngroups=10,lookback=24,skip=2,weight=\"ew\"):\n",
    "\n",
    "\n",
    "    # This function takes a data frame with columns 'permno' = stock identifier, 'ret' = returns, 'date' = date,\n",
    "    # 'shrout' = shares outstanding, 'prc' = price, 'vol' = volume traded;\n",
    "    # It creates a volatility strategy with arguments lookback, for the lookback period, skip, for skipping a number of months\n",
    "    # between the estimation and the portfolio formation period, and weight = {\"ew\", \"mw\", \"vw\"} which denotes\n",
    "    # equal weighted, market weighted and volume weighted. The output is the return of a portfolio that goes \n",
    "    # long the group of assets with the highest volatility and shorts the group of assets with the lowest. \n",
    "    # ngroups is the number of groups we choose to partition the assets.\n",
    "    \n",
    "    df['mcap'] = df['prc'].abs()*df['shrout'] # creating the market cap column\n",
    "    df['volatility'] = df['ret']\n",
    "    df=df.set_index(['date'])\n",
    "    temp=(df.groupby('permno')[['volatility']]).rolling(window=lookback,min_periods=int(np.ceil(lookback))).std()\n",
    "    temp=temp.rename(columns={'volatility':'std'})\n",
    "    temp=temp.reset_index()\n",
    "    temp=pd.merge(df.reset_index(), temp[['permno','date','std']], how='left', on=['permno','date'])\n",
    "    temp=temp.sort_values(['date','permno'])\n",
    "    temp['volatility']=temp.groupby('permno')['std'].shift(skip)\n",
    "    temp=temp.dropna(subset=['volatility'], how='any')\n",
    "    temp['volatility_group']=temp.groupby(['date'], group_keys=False)['volatility'].apply(lambda x: pd.qcut(x, ngroups, \\\n",
    "                                                                           labels=False, duplicates='drop'))\n",
    "    weight = weight\n",
    "    if weight == \"mw\":\n",
    "        volatility_w = temp.groupby(['date','volatility_group']).apply(lambda x:(x.ret*x.mcap).sum()/x.mcap.sum())\n",
    "        volatility_w = volatility_w.unstack(level=-1)\n",
    "    elif weight == \"ew\":\n",
    "        volatility_w = temp.groupby(['date','volatility_group']).apply(lambda x: x.ret.mean())\n",
    "        volatility_w = volatility_w.unstack(level=-1)\n",
    "    else:\n",
    "        volatility_w = temp.groupby(['date','volatility_group']).apply(lambda x:(x.ret*x.vol).sum()/x.vol.sum())\n",
    "        volatility_w = volatility_w.unstack(level=-1)\n",
    "\n",
    "    return volatility_w\n",
    "\n",
    "strategy_volatility(df,ngroups=10,lookback=24,skip=2,weight=\"mw\")"
   ]
  },
  {
   "cell_type": "markdown",
   "metadata": {
    "id": "qNO6FPnOgNi1"
   },
   "source": [
    "**Exercise 10**\n",
    "\n",
    "Compute the expected returns, volatilities and Sharpe ratios of the 10 portfolios. Discuss your findings."
   ]
  },
  {
   "cell_type": "code",
   "execution_count": 13,
   "metadata": {
    "id": "1tIUrZJMgNi1"
   },
   "outputs": [
    {
     "data": {
      "text/plain": [
       "<matplotlib.legend.Legend at 0x1766eb910>"
      ]
     },
     "execution_count": 13,
     "metadata": {},
     "output_type": "execute_result"
    },
    {
     "data": {
      "image/png": "[encoded data removed]",
      "text/plain": [
       "<Figure size 640x480 with 1 Axes>"
      ]
     },
     "metadata": {},
     "output_type": "display_data"
    }
   ],
   "source": [
    "# your code below\n",
    "\n",
    "# I ran the volatility strategy with market weighted portfolios.\n",
    "volatility_strategy = strategy_volatility(df,ngroups=10,lookback=24,skip=2,weight=\"mw\")\n",
    "ER = volatility_strategy.mean()*12\n",
    "Vol = volatility_strategy.std()*12**0.5\n",
    "SR = ER/Vol\n",
    "\n",
    "plt.scatter(ER.index, ER, label=\"Expected Return\")\n",
    "plt.scatter(ER.index, Vol, label=\"Standard Deviation\")\n",
    "plt.scatter(ER.index, SR, label=\"Sharpe Ratio\")\n",
    "plt.xlabel(\"Groups\")\n",
    "plt.legend()"
   ]
  },
  {
   "cell_type": "code",
   "execution_count": null,
   "metadata": {
    "id": "FsVXyKX7gNi1"
   },
   "outputs": [],
   "source": []
  },
  {
   "cell_type": "code",
   "execution_count": null,
   "metadata": {},
   "outputs": [],
   "source": []
  }
 ],
 "metadata": {
  "colab": {
   "provenance": []
  },
  "kernelspec": {
   "display_name": "Python 3 (ipykernel)",
   "language": "python",
   "name": "python3"
  },
  "language_info": {
   "codemirror_mode": {
    "name": "ipython",
    "version": 3
   },
   "file_extension": ".py",
   "mimetype": "text/x-python",
   "name": "python",
   "nbconvert_exporter": "python",
   "pygments_lexer": "ipython3",
   "version": "3.11.7"
  },
  "toc": {
   "base_numbering": 1,
   "nav_menu": {},
   "number_sections": true,
   "sideBar": true,
   "skip_h1_title": false,
   "title_cell": "Table of Contents",
   "title_sidebar": "Contents",
   "toc_cell": false,
   "toc_position": {},
   "toc_section_display": true,
   "toc_window_display": false
  },
  "toc-autonumbering": true
 },
 "nbformat": 4,
 "nbformat_minor": 4
}
