{
 "cells": [
  {
   "cell_type": "code",
   "execution_count": 8,
   "metadata": {},
   "outputs": [],
   "source": [
    "import pandas as pd  \n",
    "import numpy as np  \n",
    "import statsmodels.formula.api as smf"
   ]
  },
  {
   "cell_type": "code",
   "execution_count": 9,
   "metadata": {},
   "outputs": [
    {
     "data": {
      "text/html": [
       "<div>\n",
       "<style scoped>\n",
       "    .dataframe tbody tr th:only-of-type {\n",
       "        vertical-align: middle;\n",
       "    }\n",
       "\n",
       "    .dataframe tbody tr th {\n",
       "        vertical-align: top;\n",
       "    }\n",
       "\n",
       "    .dataframe thead th {\n",
       "        text-align: right;\n",
       "    }\n",
       "</style>\n",
       "<table border=\"1\" class=\"dataframe\">\n",
       "  <thead>\n",
       "    <tr style=\"text-align: right;\">\n",
       "      <th></th>\n",
       "      <th>LifeEx</th>\n",
       "      <th>TV</th>\n",
       "      <th>PopDoc</th>\n",
       "      <th>GDP</th>\n",
       "    </tr>\n",
       "  </thead>\n",
       "  <tbody>\n",
       "    <tr>\n",
       "      <th>0</th>\n",
       "      <td>65.6</td>\n",
       "      <td>7.4</td>\n",
       "      <td>2330</td>\n",
       "      <td>2870</td>\n",
       "    </tr>\n",
       "    <tr>\n",
       "      <th>1</th>\n",
       "      <td>71.1</td>\n",
       "      <td>22.2</td>\n",
       "      <td>330</td>\n",
       "      <td>5120</td>\n",
       "    </tr>\n",
       "    <tr>\n",
       "      <th>2</th>\n",
       "      <td>76.7</td>\n",
       "      <td>49.0</td>\n",
       "      <td>440</td>\n",
       "      <td>16680</td>\n",
       "    </tr>\n",
       "    <tr>\n",
       "      <th>3</th>\n",
       "      <td>75.7</td>\n",
       "      <td>47.0</td>\n",
       "      <td>230</td>\n",
       "      <td>17690</td>\n",
       "    </tr>\n",
       "    <tr>\n",
       "      <th>4</th>\n",
       "      <td>71.0</td>\n",
       "      <td>41.4</td>\n",
       "      <td>930</td>\n",
       "      <td>11536</td>\n",
       "    </tr>\n",
       "  </tbody>\n",
       "</table>\n",
       "</div>"
      ],
      "text/plain": [
       "   LifeEx    TV  PopDoc    GDP\n",
       "0    65.6   7.4    2330   2870\n",
       "1    71.1  22.2     330   5120\n",
       "2    76.7  49.0     440  16680\n",
       "3    75.7  47.0     230  17690\n",
       "4    71.0  41.4     930  11536"
      ]
     },
     "execution_count": 9,
     "metadata": {},
     "output_type": "execute_result"
    }
   ],
   "source": [
    "dataset = pd.read_csv('http://paulellickson.com/ClassData/LifeEx.csv')\n",
    "dataset.head()"
   ]
  },
  {
   "cell_type": "code",
   "execution_count": 10,
   "metadata": {},
   "outputs": [
    {
     "name": "stdout",
     "output_type": "stream",
     "text": [
      "                            OLS Regression Results                            \n",
      "==============================================================================\n",
      "Dep. Variable:                 LifeEx   R-squared:                       0.717\n",
      "Model:                            OLS   Adj. R-squared:                  0.710\n",
      "Method:                 Least Squares   F-statistic:                     97.34\n",
      "Date:                Mon, 18 Oct 2021   Prob (F-statistic):           2.00e-31\n",
      "Time:                        15:15:09   Log-Likelihood:                -373.28\n",
      "No. Observations:                 119   AIC:                             754.6\n",
      "Df Residuals:                     115   BIC:                             765.7\n",
      "Df Model:                           3                                         \n",
      "Covariance Type:            nonrobust                                         \n",
      "==============================================================================\n",
      "                 coef    std err          t      P>|t|      [0.025      0.975]\n",
      "------------------------------------------------------------------------------\n",
      "Intercept     60.2963      0.975     61.866      0.000      58.366      62.227\n",
      "TV             0.1168      0.055      2.116      0.037       0.007       0.226\n",
      "PopDoc        -0.0003   4.22e-05     -6.835      0.000      -0.000      -0.000\n",
      "GDP            0.0007      0.000      4.263      0.000       0.000       0.001\n",
      "==============================================================================\n",
      "Omnibus:                        1.152   Durbin-Watson:                   1.995\n",
      "Prob(Omnibus):                  0.562   Jarque-Bera (JB):                0.693\n",
      "Skew:                          -0.062   Prob(JB):                        0.707\n",
      "Kurtosis:                       3.353   Cond. No.                     3.01e+04\n",
      "==============================================================================\n",
      "\n",
      "Warnings:\n",
      "[1] Standard Errors assume that the covariance matrix of the errors is correctly specified.\n",
      "[2] The condition number is large, 3.01e+04. This might indicate that there are\n",
      "strong multicollinearity or other numerical problems.\n"
     ]
    }
   ],
   "source": [
    "est1 = smf.ols(formula='LifeEx ~ TV + PopDoc + GDP', data=dataset).fit()\n",
    "print(est1.summary())"
   ]
  },
  {
   "cell_type": "code",
   "execution_count": 11,
   "metadata": {},
   "outputs": [
    {
     "data": {
      "text/html": [
       "<div>\n",
       "<style scoped>\n",
       "    .dataframe tbody tr th:only-of-type {\n",
       "        vertical-align: middle;\n",
       "    }\n",
       "\n",
       "    .dataframe tbody tr th {\n",
       "        vertical-align: top;\n",
       "    }\n",
       "\n",
       "    .dataframe thead th {\n",
       "        text-align: right;\n",
       "    }\n",
       "</style>\n",
       "<table border=\"1\" class=\"dataframe\">\n",
       "  <thead>\n",
       "    <tr style=\"text-align: right;\">\n",
       "      <th></th>\n",
       "      <th>TV</th>\n",
       "      <th>PopDoc</th>\n",
       "      <th>GDP</th>\n",
       "    </tr>\n",
       "  </thead>\n",
       "  <tbody>\n",
       "    <tr>\n",
       "      <th>0</th>\n",
       "      <td>64</td>\n",
       "      <td>450</td>\n",
       "      <td>19320</td>\n",
       "    </tr>\n",
       "  </tbody>\n",
       "</table>\n",
       "</div>"
      ],
      "text/plain": [
       "   TV  PopDoc    GDP\n",
       "0  64     450  19320"
      ]
     },
     "execution_count": 11,
     "metadata": {},
     "output_type": "execute_result"
    }
   ],
   "source": [
    "d = {'TV': [64], 'PopDoc': [450], 'GDP': [19320]}\n",
    "df = pd.DataFrame(data=d)\n",
    "df"
   ]
  },
  {
   "cell_type": "code",
   "execution_count": 12,
   "metadata": {},
   "outputs": [
    {
     "data": {
      "text/html": [
       "<div>\n",
       "<style scoped>\n",
       "    .dataframe tbody tr th:only-of-type {\n",
       "        vertical-align: middle;\n",
       "    }\n",
       "\n",
       "    .dataframe tbody tr th {\n",
       "        vertical-align: top;\n",
       "    }\n",
       "\n",
       "    .dataframe thead th {\n",
       "        text-align: right;\n",
       "    }\n",
       "</style>\n",
       "<table border=\"1\" class=\"dataframe\">\n",
       "  <thead>\n",
       "    <tr style=\"text-align: right;\">\n",
       "      <th></th>\n",
       "      <th>mean</th>\n",
       "      <th>mean_se</th>\n",
       "      <th>mean_ci_lower</th>\n",
       "      <th>mean_ci_upper</th>\n",
       "      <th>obs_ci_lower</th>\n",
       "      <th>obs_ci_upper</th>\n",
       "    </tr>\n",
       "  </thead>\n",
       "  <tbody>\n",
       "    <tr>\n",
       "      <th>0</th>\n",
       "      <td>81.312935</td>\n",
       "      <td>1.446792</td>\n",
       "      <td>77.523414</td>\n",
       "      <td>85.102456</td>\n",
       "      <td>65.98965</td>\n",
       "      <td>96.636221</td>\n",
       "    </tr>\n",
       "  </tbody>\n",
       "</table>\n",
       "</div>"
      ],
      "text/plain": [
       "        mean   mean_se  mean_ci_lower  mean_ci_upper  obs_ci_lower  \\\n",
       "0  81.312935  1.446792      77.523414      85.102456      65.98965   \n",
       "\n",
       "   obs_ci_upper  \n",
       "0     96.636221  "
      ]
     },
     "execution_count": 12,
     "metadata": {},
     "output_type": "execute_result"
    }
   ],
   "source": [
    "predictions = est1.get_prediction(df)\n",
    "predictions.summary_frame(alpha=0.01)"
   ]
  },
  {
   "cell_type": "code",
   "execution_count": 13,
   "metadata": {},
   "outputs": [
    {
     "name": "stdout",
     "output_type": "stream",
     "text": [
      "                            OLS Regression Results                            \n",
      "==============================================================================\n",
      "Dep. Variable:                 LifeEx   R-squared:                       0.873\n",
      "Model:                            OLS   Adj. R-squared:                  0.870\n",
      "Method:                 Least Squares   F-statistic:                     264.3\n",
      "Date:                Mon, 18 Oct 2021   Prob (F-statistic):           2.05e-51\n",
      "Time:                        15:15:15   Log-Likelihood:                -325.55\n",
      "No. Observations:                 119   AIC:                             659.1\n",
      "Df Residuals:                     115   BIC:                             670.2\n",
      "Df Model:                           3                                         \n",
      "Covariance Type:            nonrobust                                         \n",
      "==================================================================================\n",
      "                     coef    std err          t      P>|t|      [0.025      0.975]\n",
      "----------------------------------------------------------------------------------\n",
      "Intercept         43.3560      8.042      5.391      0.000      27.427      59.285\n",
      "np.log(TV)         1.3846      0.525      2.639      0.009       0.345       2.424\n",
      "np.log(PopDoc)    -2.0964      0.459     -4.564      0.000      -3.006      -1.186\n",
      "np.log(GDP)        4.2070      0.775      5.429      0.000       2.672       5.742\n",
      "==============================================================================\n",
      "Omnibus:                        2.925   Durbin-Watson:                   1.977\n",
      "Prob(Omnibus):                  0.232   Jarque-Bera (JB):                2.867\n",
      "Skew:                          -0.096   Prob(JB):                        0.238\n",
      "Kurtosis:                       3.736   Cond. No.                         268.\n",
      "==============================================================================\n",
      "\n",
      "Warnings:\n",
      "[1] Standard Errors assume that the covariance matrix of the errors is correctly specified.\n"
     ]
    }
   ],
   "source": [
    "est2 = smf.ols(formula='LifeEx ~ np.log(TV) + np.log(PopDoc) + np.log(GDP)', data=dataset).fit()\n",
    "print(est2.summary())"
   ]
  },
  {
   "cell_type": "code",
   "execution_count": null,
   "metadata": {},
   "outputs": [],
   "source": []
  }
 ],
 "metadata": {
  "kernelspec": {
   "display_name": "Python 3",
   "language": "python",
   "name": "python3"
  },
  "language_info": {
   "codemirror_mode": {
    "name": "ipython",
    "version": 3
   },
   "file_extension": ".py",
   "mimetype": "text/x-python",
   "name": "python",
   "nbconvert_exporter": "python",
   "pygments_lexer": "ipython3",
   "version": "3.8.3"
  }
 },
 "nbformat": 4,
 "nbformat_minor": 4
}
